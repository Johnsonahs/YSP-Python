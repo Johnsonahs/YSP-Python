{
 "cells": [
  {
   "cell_type": "code",
   "execution_count": 2,
   "metadata": {},
   "outputs": [],
   "source": [
    "# Importing necessary packages\n",
    "\n",
    "import numpy as np\n",
    "import pandas as pd\n",
    "import matplotlib.pyplot as plt"
   ]
  },
  {
   "cell_type": "code",
   "execution_count": 3,
   "metadata": {},
   "outputs": [],
   "source": [
    "# Reading all datasets as pandas dataframes\n",
    "\n",
    "hurricane_data = pd.read_csv('BRTK_SHIPS_2000to2019_IMERG_OK_Request_2023_FINAL.csv')\n",
    "population_data = pd.read_csv('florida-population-2023-07-08.csv')\n",
    "labor_data = pd.read_csv('labor-productivity-by-state-and-region.csv')"
   ]
  },
  {
   "cell_type": "code",
   "execution_count": 71,
   "metadata": {},
   "outputs": [
    {
     "ename": "KeyError",
     "evalue": "True",
     "output_type": "error",
     "traceback": [
      "\u001b[0;31m---------------------------------------------------------------------------\u001b[0m",
      "\u001b[0;31mKeyError\u001b[0m                                  Traceback (most recent call last)",
      "File \u001b[0;32m~/Library/Python/3.11/lib/python/site-packages/pandas/core/indexes/base.py:3652\u001b[0m, in \u001b[0;36mIndex.get_loc\u001b[0;34m(self, key)\u001b[0m\n\u001b[1;32m   3651\u001b[0m \u001b[39mtry\u001b[39;00m:\n\u001b[0;32m-> 3652\u001b[0m     \u001b[39mreturn\u001b[39;00m \u001b[39mself\u001b[39;49m\u001b[39m.\u001b[39;49m_engine\u001b[39m.\u001b[39;49mget_loc(casted_key)\n\u001b[1;32m   3653\u001b[0m \u001b[39mexcept\u001b[39;00m \u001b[39mKeyError\u001b[39;00m \u001b[39mas\u001b[39;00m err:\n",
      "File \u001b[0;32m~/Library/Python/3.11/lib/python/site-packages/pandas/_libs/index.pyx:147\u001b[0m, in \u001b[0;36mpandas._libs.index.IndexEngine.get_loc\u001b[0;34m()\u001b[0m\n",
      "File \u001b[0;32m~/Library/Python/3.11/lib/python/site-packages/pandas/_libs/index.pyx:176\u001b[0m, in \u001b[0;36mpandas._libs.index.IndexEngine.get_loc\u001b[0;34m()\u001b[0m\n",
      "File \u001b[0;32mpandas/_libs/hashtable_class_helper.pxi:7080\u001b[0m, in \u001b[0;36mpandas._libs.hashtable.PyObjectHashTable.get_item\u001b[0;34m()\u001b[0m\n",
      "File \u001b[0;32mpandas/_libs/hashtable_class_helper.pxi:7088\u001b[0m, in \u001b[0;36mpandas._libs.hashtable.PyObjectHashTable.get_item\u001b[0;34m()\u001b[0m\n",
      "\u001b[0;31mKeyError\u001b[0m: True",
      "\nThe above exception was the direct cause of the following exception:\n",
      "\u001b[0;31mKeyError\u001b[0m                                  Traceback (most recent call last)",
      "Cell \u001b[0;32mIn[71], line 3\u001b[0m\n\u001b[1;32m      1\u001b[0m \u001b[39m# Failed attempt to filter out all storms that did hit Florida\u001b[39;00m\n\u001b[0;32m----> 3\u001b[0m all_florida_storms \u001b[39m=\u001b[39m hurricane_data[hurricane_data[\u001b[39m'\u001b[39;49m\u001b[39mLATITUDE\u001b[39;49m\u001b[39m'\u001b[39;49m]\u001b[39m.\u001b[39;49mall() \u001b[39m<\u001b[39;49m\u001b[39m=\u001b[39;49m \u001b[39m31.0\u001b[39;49m \u001b[39mand\u001b[39;49;00m hurricane_data[\u001b[39m'\u001b[39;49m\u001b[39mLONGITUDE\u001b[39;49m\u001b[39m'\u001b[39;49m]\u001b[39m.\u001b[39;49mall() \u001b[39m>\u001b[39;49m\u001b[39m=\u001b[39;49m \u001b[39m-\u001b[39;49m\u001b[39m87.0\u001b[39;49m]\n\u001b[1;32m      4\u001b[0m all_florida_storms\u001b[39m.\u001b[39mhead()\n",
      "File \u001b[0;32m~/Library/Python/3.11/lib/python/site-packages/pandas/core/frame.py:3760\u001b[0m, in \u001b[0;36mDataFrame.__getitem__\u001b[0;34m(self, key)\u001b[0m\n\u001b[1;32m   3758\u001b[0m \u001b[39mif\u001b[39;00m \u001b[39mself\u001b[39m\u001b[39m.\u001b[39mcolumns\u001b[39m.\u001b[39mnlevels \u001b[39m>\u001b[39m \u001b[39m1\u001b[39m:\n\u001b[1;32m   3759\u001b[0m     \u001b[39mreturn\u001b[39;00m \u001b[39mself\u001b[39m\u001b[39m.\u001b[39m_getitem_multilevel(key)\n\u001b[0;32m-> 3760\u001b[0m indexer \u001b[39m=\u001b[39m \u001b[39mself\u001b[39;49m\u001b[39m.\u001b[39;49mcolumns\u001b[39m.\u001b[39;49mget_loc(key)\n\u001b[1;32m   3761\u001b[0m \u001b[39mif\u001b[39;00m is_integer(indexer):\n\u001b[1;32m   3762\u001b[0m     indexer \u001b[39m=\u001b[39m [indexer]\n",
      "File \u001b[0;32m~/Library/Python/3.11/lib/python/site-packages/pandas/core/indexes/base.py:3654\u001b[0m, in \u001b[0;36mIndex.get_loc\u001b[0;34m(self, key)\u001b[0m\n\u001b[1;32m   3652\u001b[0m     \u001b[39mreturn\u001b[39;00m \u001b[39mself\u001b[39m\u001b[39m.\u001b[39m_engine\u001b[39m.\u001b[39mget_loc(casted_key)\n\u001b[1;32m   3653\u001b[0m \u001b[39mexcept\u001b[39;00m \u001b[39mKeyError\u001b[39;00m \u001b[39mas\u001b[39;00m err:\n\u001b[0;32m-> 3654\u001b[0m     \u001b[39mraise\u001b[39;00m \u001b[39mKeyError\u001b[39;00m(key) \u001b[39mfrom\u001b[39;00m \u001b[39merr\u001b[39;00m\n\u001b[1;32m   3655\u001b[0m \u001b[39mexcept\u001b[39;00m \u001b[39mTypeError\u001b[39;00m:\n\u001b[1;32m   3656\u001b[0m     \u001b[39m# If we have a listlike key, _check_indexing_error will raise\u001b[39;00m\n\u001b[1;32m   3657\u001b[0m     \u001b[39m#  InvalidIndexError. Otherwise we fall through and re-raise\u001b[39;00m\n\u001b[1;32m   3658\u001b[0m     \u001b[39m#  the TypeError.\u001b[39;00m\n\u001b[1;32m   3659\u001b[0m     \u001b[39mself\u001b[39m\u001b[39m.\u001b[39m_check_indexing_error(key)\n",
      "\u001b[0;31mKeyError\u001b[0m: True"
     ]
    }
   ],
   "source": [
    "# Failed attempt to filter out all storms that did hit Florida\n",
    "\n",
    "all_florida_storms = hurricane_data[hurricane_data['LATITUDE'].all() <= 31.0 and hurricane_data['LONGITUDE'].all() >= -87.0]\n",
    "all_florida_storms.head()"
   ]
  },
  {
   "cell_type": "code",
   "execution_count": 4,
   "metadata": {},
   "outputs": [],
   "source": [
    "# Successful attempt to filter out all storms that did hit Florida\n",
    "\n",
    "all_florida_storm_indicies = []\n",
    "for i in range(len(hurricane_data)):\n",
    "    if(24.5 <= hurricane_data['LATITUDE'][i] <= 31.0 and -79.8 >= hurricane_data['LONGITUDE'][i] >= -87.0):\n",
    "        all_florida_storm_indicies.append(i)\n",
    "\n",
    "all_florida_storms = hurricane_data.iloc[all_florida_storm_indicies]\n",
    "all_florida_storms = all_florida_storms.reset_index(drop=True)"
   ]
  },
  {
   "cell_type": "code",
   "execution_count": null,
   "metadata": {},
   "outputs": [
    {
     "name": "stdout",
     "output_type": "stream",
     "text": [
      "['GORDON' 'HELENE' 'BARRY' 'GABRIELLE' 'EDOUARD' 'HANNA' 'KYLE'\n",
      " 'NOT_NAMED' 'ERIKA' 'HENRI' 'BONNIE' 'CHARLEY' 'FRANCES' 'IVAN' 'JEANNE'\n",
      " 'ARLENE' 'DENNIS' 'KATRINA' 'RITA' 'TAMMY' 'WILMA' 'ALBERTO' 'ERNESTO'\n",
      " 'FAY' 'GUSTAV' 'IKE' 'CLAUDETTE' 'BERYL' 'DEBBY' 'ISAAC' 'ANDREA' 'COLIN'\n",
      " 'HERMINE' 'JULIA' 'MATTHEW' 'EMILY' 'IRMA' 'MICHAEL']\n",
      "CHARLEY\n",
      "IVAN\n",
      "DENNIS\n",
      "DENNIS\n",
      "DENNIS\n",
      "DENNIS\n",
      "KATRINA\n",
      "KATRINA\n",
      "KATRINA\n",
      "RITA\n",
      "WILMA\n",
      "GUSTAV\n",
      "MATTHEW\n",
      "MATTHEW\n",
      "IRMA\n",
      "IRMA\n",
      "MICHAEL\n",
      "MICHAEL\n",
      "MICHAEL\n",
      "MICHAEL\n",
      "MICHAEL\n"
     ]
    }
   ],
   "source": [
    "# Listing out all the storms that hit Florida\n",
    "# ALso listing all major hurricanes that hit Florida\n",
    "\n",
    "major_hurricane_indicies = []\n",
    "print(all_florida_storms['STORM_NAME'].unique())\n",
    "for i in range(len(all_florida_storms)):\n",
    "    try:\n",
    "        if(int(all_florida_storms['CAT'][i][1]) >= 3):\n",
    "            print(all_florida_storms['STORM_NAME'][i])\n",
    "            major_hurricane_indicies.append(i)\n",
    "    except ValueError:\n",
    "        pass\n",
    "major_hurricanes = all_florida_storms.iloc[major_hurricane_indicies]\n",
    "\n",
    "years = [int(str(date)[:4]) for date in major_hurricanes['DATE']]\n",
    "print(years)"
   ]
  },
  {
   "cell_type": "code",
   "execution_count": 6,
   "metadata": {},
   "outputs": [
    {
     "name": "stdout",
     "output_type": "stream",
     "text": [
      "      Date   Population   Annual Change\n",
      "0  12/1/00       530000             NaN\n",
      "1  12/1/01       544000            2.64\n",
      "2  12/1/02       565000            3.86\n",
      "3  12/1/03       587000            3.89\n",
      "4  12/1/04       599000            2.04\n",
      "0      12/1/00\n",
      "1      12/1/01\n",
      "2      12/1/02\n",
      "3      12/1/03\n",
      "4      12/1/04\n",
      "        ...   \n",
      "118    12/1/18\n",
      "119    12/1/19\n",
      "120    12/1/20\n",
      "121    12/1/21\n",
      "122    12/1/22\n",
      "Name: Date, Length: 123, dtype: object\n",
      "0        530000\n",
      "1        544000\n",
      "2        565000\n",
      "3        587000\n",
      "4        599000\n",
      "         ...   \n",
      "118    21254926\n",
      "119    21492056\n",
      "120    21589602\n",
      "121    21828069\n",
      "122    22244823\n",
      "Name:  Population, Length: 123, dtype: int64\n"
     ]
    }
   ],
   "source": [
    "# Testing around with the population data because of my failure to use .loc\n",
    "\n",
    "print(population_data.head())\n",
    "print(population_data.iloc[:, 0])\n",
    "print(population_data.iloc[:, 1])"
   ]
  },
  {
   "cell_type": "code",
   "execution_count": 7,
   "metadata": {},
   "outputs": [],
   "source": [
    "# Simplify how years are displayed in the population data\n",
    "# Also filters out all data before 2000\n",
    "for i in range(len(population_data)):\n",
    "    population_data.iloc[i, 0] = population_data.iloc[i, 0][-2:]\n",
    "    if(i < 100):\n",
    "        pass\n",
    "    else:\n",
    "        population_data.iloc[i, 0] = '20' + population_data.iloc[i, 0]\n",
    "population_data = population_data.iloc[100:, :]\n",
    "population_data = population_data.reset_index(drop=True)\n"
   ]
  },
  {
   "cell_type": "code",
   "execution_count": 8,
   "metadata": {},
   "outputs": [
    {
     "name": "stdout",
     "output_type": "stream",
     "text": [
      "    Date   Population   Annual Change\n",
      "0   2000     16047515            6.20\n",
      "1   2001     16356966            1.93\n",
      "2   2002     16689370            2.03\n",
      "3   2003     17004085            1.89\n",
      "4   2004     17415318            2.42\n",
      "5   2005     17842038            2.45\n",
      "6   2006     18166990            1.82\n",
      "7   2007     18367842            1.11\n",
      "8   2008     18527305            0.87\n",
      "9   2009     18652644            0.68\n",
      "10  2010     18846143            1.04\n",
      "11  2011     19055607            1.11\n",
      "12  2012     19302016            1.29\n",
      "13  2013     19551678            1.29\n",
      "14  2014     19853880            1.55\n",
      "15  2015     20219111            1.84\n",
      "16  2016     20627237            2.02\n",
      "17  2017     20977089            1.70\n",
      "18  2018     21254926            1.32\n",
      "19  2019     21492056            1.12\n",
      "20  2020     21589602            0.45\n",
      "21  2021     21828069            1.10\n",
      "22  2022     22244823            1.91\n"
     ]
    }
   ],
   "source": [
    "print(population_data)"
   ]
  },
  {
   "cell_type": "code",
   "execution_count": 9,
   "metadata": {},
   "outputs": [
    {
     "name": "stderr",
     "output_type": "stream",
     "text": [
      "/var/folders/94/g9q138r57c77g58pkrfmdwbm0000gp/T/ipykernel_35119/794504589.py:8: UserWarning: FixedFormatter should only be used together with FixedLocator\n",
      "  ax.set_xticklabels(labels = population_data.iloc[:, 0], fontsize = 6)\n"
     ]
    },
    {
     "data": {
      "image/png": "[encoded data removed]",
      "text/plain": [
       "<Figure size 640x480 with 1 Axes>"
      ]
     },
     "metadata": {},
     "output_type": "display_data"
    }
   ],
   "source": [
    "# Plotting population data over year\n",
    "# Later change colors of points\n",
    "\n",
    "fig, ax = plt.subplots()\n",
    "plt.scatter(x = population_data.iloc[:, 0], y = population_data.iloc[:, 1])\n",
    "start, end = ax.get_xlim()\n",
    "# start, end = 0, 128\n",
    "# ax.xaxis.set_ticks(np.arange(start, end, 10))\n",
    "ax.set_xticklabels(labels = population_data.iloc[:, 0], fontsize = 6)\n",
    "plt.title('Population of Florida Over Time')\n",
    "ax.set_xlabel('Year')\n",
    "ax.set_ylabel('Population (millions)')\n",
    "plt.show()"
   ]
  },
  {
   "cell_type": "code",
   "execution_count": 14,
   "metadata": {},
   "outputs": [],
   "source": [
    "florida_labor_data = labor_data[labor_data['Area'] == 'Florida']"
   ]
  },
  {
   "cell_type": "code",
   "execution_count": 17,
   "metadata": {},
   "outputs": [
    {
     "data": {
      "text/html": [
       "<div>\n",
       "<style scoped>\n",
       "    .dataframe tbody tr th:only-of-type {\n",
       "        vertical-align: middle;\n",
       "    }\n",
       "\n",
       "    .dataframe tbody tr th {\n",
       "        vertical-align: top;\n",
       "    }\n",
       "\n",
       "    .dataframe thead th {\n",
       "        text-align: right;\n",
       "    }\n",
       "</style>\n",
       "<table border=\"1\" class=\"dataframe\">\n",
       "  <thead>\n",
       "    <tr style=\"text-align: right;\">\n",
       "      <th></th>\n",
       "      <th>Sector</th>\n",
       "      <th>Area</th>\n",
       "      <th>Basis</th>\n",
       "      <th>Measure</th>\n",
       "      <th>Units</th>\n",
       "      <th>Year</th>\n",
       "      <th>Value</th>\n",
       "    </tr>\n",
       "  </thead>\n",
       "  <tbody>\n",
       "    <tr>\n",
       "      <th>0</th>\n",
       "      <td>Private nonfarm</td>\n",
       "      <td>Florida</td>\n",
       "      <td>All workers</td>\n",
       "      <td>Hours worked</td>\n",
       "      <td>Millions of hours</td>\n",
       "      <td>2007</td>\n",
       "      <td>13,266.371</td>\n",
       "    </tr>\n",
       "    <tr>\n",
       "      <th>1</th>\n",
       "      <td>Private nonfarm</td>\n",
       "      <td>Florida</td>\n",
       "      <td>All workers</td>\n",
       "      <td>Hours worked</td>\n",
       "      <td>Millions of hours</td>\n",
       "      <td>2008</td>\n",
       "      <td>12,526.034</td>\n",
       "    </tr>\n",
       "    <tr>\n",
       "      <th>2</th>\n",
       "      <td>Private nonfarm</td>\n",
       "      <td>Florida</td>\n",
       "      <td>All workers</td>\n",
       "      <td>Hours worked</td>\n",
       "      <td>Millions of hours</td>\n",
       "      <td>2009</td>\n",
       "      <td>11,631.709</td>\n",
       "    </tr>\n",
       "    <tr>\n",
       "      <th>3</th>\n",
       "      <td>Private nonfarm</td>\n",
       "      <td>Florida</td>\n",
       "      <td>All workers</td>\n",
       "      <td>Hours worked</td>\n",
       "      <td>Millions of hours</td>\n",
       "      <td>2010</td>\n",
       "      <td>11,606.950</td>\n",
       "    </tr>\n",
       "    <tr>\n",
       "      <th>4</th>\n",
       "      <td>Private nonfarm</td>\n",
       "      <td>Florida</td>\n",
       "      <td>All workers</td>\n",
       "      <td>Hours worked</td>\n",
       "      <td>Millions of hours</td>\n",
       "      <td>2011</td>\n",
       "      <td>11,611.617</td>\n",
       "    </tr>\n",
       "    <tr>\n",
       "      <th>...</th>\n",
       "      <td>...</td>\n",
       "      <td>...</td>\n",
       "      <td>...</td>\n",
       "      <td>...</td>\n",
       "      <td>...</td>\n",
       "      <td>...</td>\n",
       "      <td>...</td>\n",
       "    </tr>\n",
       "    <tr>\n",
       "      <th>475</th>\n",
       "      <td>Private nonfarm</td>\n",
       "      <td>Florida</td>\n",
       "      <td>All workers</td>\n",
       "      <td>Unit labor costs</td>\n",
       "      <td>% Change from previous year</td>\n",
       "      <td>2018</td>\n",
       "      <td>3.8</td>\n",
       "    </tr>\n",
       "    <tr>\n",
       "      <th>476</th>\n",
       "      <td>Private nonfarm</td>\n",
       "      <td>Florida</td>\n",
       "      <td>All workers</td>\n",
       "      <td>Unit labor costs</td>\n",
       "      <td>% Change from previous year</td>\n",
       "      <td>2019</td>\n",
       "      <td>2.6</td>\n",
       "    </tr>\n",
       "    <tr>\n",
       "      <th>477</th>\n",
       "      <td>Private nonfarm</td>\n",
       "      <td>Florida</td>\n",
       "      <td>All workers</td>\n",
       "      <td>Unit labor costs</td>\n",
       "      <td>% Change from previous year</td>\n",
       "      <td>2020</td>\n",
       "      <td>3.9</td>\n",
       "    </tr>\n",
       "    <tr>\n",
       "      <th>478</th>\n",
       "      <td>Private nonfarm</td>\n",
       "      <td>Florida</td>\n",
       "      <td>All workers</td>\n",
       "      <td>Unit labor costs</td>\n",
       "      <td>% Change from previous year</td>\n",
       "      <td>2021</td>\n",
       "      <td>5.0</td>\n",
       "    </tr>\n",
       "    <tr>\n",
       "      <th>479</th>\n",
       "      <td>Private nonfarm</td>\n",
       "      <td>Florida</td>\n",
       "      <td>All workers</td>\n",
       "      <td>Unit labor costs</td>\n",
       "      <td>% Change from previous year</td>\n",
       "      <td>2022</td>\n",
       "      <td>7.1</td>\n",
       "    </tr>\n",
       "  </tbody>\n",
       "</table>\n",
       "<p>480 rows × 7 columns</p>\n",
       "</div>"
      ],
      "text/plain": [
       "              Sector     Area        Basis           Measure   \n",
       "0    Private nonfarm  Florida  All workers      Hours worked  \\\n",
       "1    Private nonfarm  Florida  All workers      Hours worked   \n",
       "2    Private nonfarm  Florida  All workers      Hours worked   \n",
       "3    Private nonfarm  Florida  All workers      Hours worked   \n",
       "4    Private nonfarm  Florida  All workers      Hours worked   \n",
       "..               ...      ...          ...               ...   \n",
       "475  Private nonfarm  Florida  All workers  Unit labor costs   \n",
       "476  Private nonfarm  Florida  All workers  Unit labor costs   \n",
       "477  Private nonfarm  Florida  All workers  Unit labor costs   \n",
       "478  Private nonfarm  Florida  All workers  Unit labor costs   \n",
       "479  Private nonfarm  Florida  All workers  Unit labor costs   \n",
       "\n",
       "                           Units  Year       Value  \n",
       "0              Millions of hours  2007  13,266.371  \n",
       "1              Millions of hours  2008  12,526.034  \n",
       "2              Millions of hours  2009  11,631.709  \n",
       "3              Millions of hours  2010  11,606.950  \n",
       "4              Millions of hours  2011  11,611.617  \n",
       "..                           ...   ...         ...  \n",
       "475  % Change from previous year  2018         3.8  \n",
       "476  % Change from previous year  2019         2.6  \n",
       "477  % Change from previous year  2020         3.9  \n",
       "478  % Change from previous year  2021         5.0  \n",
       "479  % Change from previous year  2022         7.1  \n",
       "\n",
       "[480 rows x 7 columns]"
      ]
     },
     "execution_count": 17,
     "metadata": {},
     "output_type": "execute_result"
    }
   ],
   "source": [
    "florida_labor_data = florida_labor_data.reset_index(drop=True)\n",
    "florida_labor_data"
   ]
  },
  {
   "cell_type": "code",
   "execution_count": 19,
   "metadata": {},
   "outputs": [
    {
     "name": "stdout",
     "output_type": "stream",
     "text": [
      "            Sector     Area        Basis       Measure              Units   \n",
      "0  Private nonfarm  Florida  All workers  Hours worked  Millions of hours  \\\n",
      "1  Private nonfarm  Florida  All workers  Hours worked  Millions of hours   \n",
      "2  Private nonfarm  Florida  All workers  Hours worked  Millions of hours   \n",
      "3  Private nonfarm  Florida  All workers  Hours worked  Millions of hours   \n",
      "4  Private nonfarm  Florida  All workers  Hours worked  Millions of hours   \n",
      "\n",
      "   Year       Value  \n",
      "0  2007  13,266.371  \n",
      "1  2008  12,526.034  \n",
      "2  2009  11,631.709  \n",
      "3  2010  11,606.950  \n",
      "4  2011  11,611.617  \n"
     ]
    }
   ],
   "source": [
    "print(florida_labor_data[florida_labor_data['Measure'] == 'Hours worked'].head())"
   ]
  },
  {
   "cell_type": "code",
   "execution_count": null,
   "metadata": {},
   "outputs": [],
   "source": []
  }
 ],
 "metadata": {
  "kernelspec": {
   "display_name": "Python 3",
   "language": "python",
   "name": "python3"
  },
  "language_info": {
   "codemirror_mode": {
    "name": "ipython",
    "version": 3
   },
   "file_extension": ".py",
   "mimetype": "text/x-python",
   "name": "python",
   "nbconvert_exporter": "python",
   "pygments_lexer": "ipython3",
   "version": "3.11.3"
  },
  "orig_nbformat": 4
 },
 "nbformat": 4,
 "nbformat_minor": 2
}
